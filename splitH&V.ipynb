{
 "cells": [
  {
   "cell_type": "code",
   "execution_count": null,
   "metadata": {},
   "outputs": [],
   "source": [
    "import os\n",
    "import shutil\n",
    "import random\n",
    "source_directory_path = 'C:/Users/Lenovo/PycharmProjects/HCI_Project/Data/others'\n",
    "train_directory_path = os.path.join(source_directory_path, 'Train')\n",
    "test_directory_path = os.path.join(source_directory_path, 'Test')\n",
    "if not os.path.exists(train_directory_path):\n",
    "    os.makedirs(train_directory_path)\n",
    "    print(f\"Created training directory at '{train_directory_path}'\")\n",
    "if not os.path.exists(test_directory_path):\n",
    "    os.makedirs(test_directory_path)\n",
    "    print(f\"Created testing directory at '{test_directory_path}'\")\n",
    "txt_files = [f for f in os.listdir(source_directory_path) if f.endswith('.txt')]\n",
    "random.shuffle(txt_files)\n",
    "split_ratio = 0.8\n",
    "split_index = int(len(txt_files) * split_ratio)\n",
    "train_files = txt_files[:split_index]\n",
    "test_files = txt_files[split_index:]\n",
    "for file in range(len(train_files),2):\n",
    "    shutil.move(os.path.join(source_directory_path, file), train_directory_path)\n",
    "    print(f\"Moved '{file}' to '{train_directory_path}'\")\n",
    "for file in  range(len(test_files),2):\n",
    "    shutil.move(os.path.join(source_directory_path, file), test_directory_path)\n",
    "    print(f\"Moved '{file}' to '{test_directory_path}'\")\n",
    "print(\"Files have been split into Train and Test directories.\")\n"
   ]
  }
 ],
 "metadata": {
  "language_info": {
   "name": "python"
  }
 },
 "nbformat": 4,
 "nbformat_minor": 2
}
